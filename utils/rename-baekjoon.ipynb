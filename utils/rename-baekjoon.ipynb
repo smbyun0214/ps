{
 "cells": [
  {
   "cell_type": "code",
   "execution_count": 1,
   "metadata": {},
   "outputs": [],
   "source": [
    "# !conda install -y requests beautifulsoup4"
   ]
  },
  {
   "cell_type": "code",
   "execution_count": 1,
   "metadata": {},
   "outputs": [],
   "source": [
    "import requests\n",
    "from bs4 import BeautifulSoup\n",
    "import os\n",
    "import time"
   ]
  },
  {
   "cell_type": "code",
   "execution_count": 2,
   "metadata": {},
   "outputs": [],
   "source": [
    "path = \"Baekjoon\"\n",
    "group_paths = []\n",
    "\n",
    "for file in os.listdir(path):\n",
    "    group_paths.append(os.path.join(path, file))"
   ]
  },
  {
   "cell_type": "code",
   "execution_count": 3,
   "metadata": {},
   "outputs": [],
   "source": [
    "url = \"https://www.acmicpc.net/problem/\""
   ]
  },
  {
   "cell_type": "code",
   "execution_count": 4,
   "metadata": {
    "scrolled": true
   },
   "outputs": [],
   "source": [
    "for _path in group_paths:\n",
    "    _basename = os.path.basename(_path)\n",
    "    _id = os.path.splitext(_basename)[0]\n",
    "    \n",
    "    if _id.isdigit() is False:\n",
    "        continue\n",
    "    \n",
    "    _dirname = os.path.dirname(_path)\n",
    "    _extension = os.path.splitext(_basename)[1]\n",
    "    \n",
    "    _url = url + str(_id)\n",
    "    \n",
    "    r = requests.get(_url)\n",
    "    \n",
    "    if r.status_code == 200:\n",
    "        soup = BeautifulSoup(r.text)\n",
    "        \n",
    "        number = soup.head.findNext('meta', {\"name\" : 'problem-id'})['content']\n",
    "        title = soup.body.findNext(\n",
    "                'div',\n",
    "                {'class':'wrapper'}\n",
    "            ).findNext(\n",
    "                'div',\n",
    "                {'class':'container content'}\n",
    "            ).findNext(\n",
    "                'div',\n",
    "                {'class':'row'}\n",
    "            ).findNext(\n",
    "                'div',\n",
    "                {'class':'col-md-12'}\n",
    "            ).findNext(\n",
    "                'div',\n",
    "                {'class':'page-header'}\n",
    "            ).findNext(\n",
    "                'h1',\n",
    "            ).findNext(\n",
    "                'span',\n",
    "                {'id':'problem_title'}\n",
    "            ).text\n",
    "        \n",
    "        new_filename = \"_\".join([number, *title.replace('/', '_').split(' ')]) + _extension\n",
    "        print(_path, \">\", os.path.join(_dirname, new_filename))\n",
    "        os.rename(_path, os.path.join(_dirname, new_filename))\n",
    "        \n",
    "    time.sleep(2)"
   ]
  },
  {
   "cell_type": "code",
   "execution_count": null,
   "metadata": {},
   "outputs": [],
   "source": []
  }
 ],
 "metadata": {
  "kernelspec": {
   "display_name": "Python 3.8.2 64-bit ('ps': conda)",
   "language": "python",
   "name": "python38264bitpsconda97c75a56925a4b2680c8fc4ff60e4a5b"
  },
  "language_info": {
   "codemirror_mode": {
    "name": "ipython",
    "version": 3
   },
   "file_extension": ".py",
   "mimetype": "text/x-python",
   "name": "python",
   "nbconvert_exporter": "python",
   "pygments_lexer": "ipython3",
   "version": "3.8.2-final"
  }
 },
 "nbformat": 4,
 "nbformat_minor": 4
}