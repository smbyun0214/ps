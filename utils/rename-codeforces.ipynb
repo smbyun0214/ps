{
 "cells": [
  {
   "cell_type": "code",
   "execution_count": 1,
   "metadata": {},
   "outputs": [],
   "source": [
    "# !conda install -y requests beautifulsoup4"
   ]
  },
  {
   "cell_type": "code",
   "execution_count": 1,
   "metadata": {},
   "outputs": [],
   "source": [
    "from pathlib import Path\n",
    "from urllib.parse import urlparse\n",
    "from pathvalidate import sanitize_filepath, sanitize_filename\n",
    "import requests\n",
    "from bs4 import BeautifulSoup"
   ]
  },
  {
   "cell_type": "code",
   "execution_count": 2,
   "metadata": {},
   "outputs": [],
   "source": [
    "def get_url_from_source(filepath):\n",
    "    with open(filepath) as f:\n",
    "        line = f.readline()\n",
    "        if line.startswith(\"//\"):\n",
    "            return line[2:].strip()"
   ]
  },
  {
   "cell_type": "code",
   "execution_count": 14,
   "metadata": {},
   "outputs": [],
   "source": [
    "def get_names_from_url(type, full_url):\n",
    "    header_name = None\n",
    "    soup = None\n",
    "\n",
    "    assert (type is not None)\n",
    "\n",
    "    r = requests.get(full_url)\n",
    "\n",
    "    assert (r.status_code == 200)\n",
    "\n",
    "    time.sleep(2)\n",
    "    \n",
    "    # 기본 처리\n",
    "    soup = BeautifulSoup(r.text, 'html5lib')\n",
    "    \n",
    "    problem_name = soup.body.findNext('div', {\"class\" : 'title'}).get_text()\n",
    "    problem_name = problem_name.strip()\n",
    "\n",
    "    type = type.lower()\n",
    "\n",
    "    if type == \"problemset\":\n",
    "        parsed_url = urlparse(full_url)\n",
    "        header_name = parsed_url.path.split('/')[3]\n",
    "\n",
    "    elif type == \"gym\" or type == \"contest\":\n",
    "        parsed_url = urlparse(full_url)\n",
    "\n",
    "        contest_relative_url = '/'.join(parsed_url.path.split('/')[:3])\n",
    "        contest_relative_url.strip()\n",
    "\n",
    "        header_name = soup.body.findNext('a', {'style' : \"color: black\", 'href': contest_relative_url}).get_text()\n",
    "        header_name = header_name.strip()\n",
    "\n",
    "    return sanitize_filepath(header_name, replacement_text=\"_\"), sanitize_filename(problem_name, replacement_text=\"_\")"
   ]
  },
  {
   "cell_type": "code",
   "execution_count": 26,
   "metadata": {},
   "outputs": [
    {
     "output_type": "stream",
     "name": "stdout",
     "text": "[Problemset] : https://codeforces.com/problemset/problem/977/A\nCode Forces/dump/Problemset/977/A. Wrong Subtraction.cpp -> Code Forces/Problemset/977/A. Wrong Subtraction.cpp\n[Problemset] : https://codeforces.com/problemset/problem/4/A\nCode Forces/dump/Problemset/4/A. Watermelon.cpp -> Code Forces/Problemset/4/A. Watermelon.cpp\n[Gym] : https://codeforces.com/gym/102556/problem/G\n/gym/102556\nCode Forces/dump/Gym/2020 Ateneo de Manila University DISCS PrO HS Division/G. Riana and Gallant Guards.cpp -> Code Forces/Gym/2020 Ateneo de Manila University DISCS PrO HS Division/G. Riana and Gallant Guards.cpp\n[Gym] : https://codeforces.com/gym/102556/problem/E\n/gym/102556\nCode Forces/dump/Gym/2020 Ateneo de Manila University DISCS PrO HS Division/E. Riana's Excruciating Enhancement Enigma.cpp -> Code Forces/Gym/2020 Ateneo de Manila University DISCS PrO HS Division/E. Riana's Excruciating Enhancement Enigma.cpp\n[Gym] : https://codeforces.com/gym/102556/problem/D\n/gym/102556\nCode Forces/dump/Gym/2020 Ateneo de Manila University DISCS PrO HS Division/D. Riana and Distribution of Pie.cpp -> Code Forces/Gym/2020 Ateneo de Manila University DISCS PrO HS Division/D. Riana and Distribution of Pie.cpp\n[Gym] : https://codeforces.com/gym/102556/problem/C\n/gym/102556\nCode Forces/dump/Gym/2020 Ateneo de Manila University DISCS PrO HS Division/C. Riana and Commute.cpp -> Code Forces/Gym/2020 Ateneo de Manila University DISCS PrO HS Division/C. Riana and Commute.cpp\n[Gym] : https://codeforces.com/gym/102556/problem/B\n/gym/102556\nCode Forces/dump/Gym/2020 Ateneo de Manila University DISCS PrO HS Division/B. Riana and the Blind Date.cpp -> Code Forces/Gym/2020 Ateneo de Manila University DISCS PrO HS Division/B. Riana and the Blind Date.cpp\n[Gym] : https://codeforces.com/gym/102556/problem/A\n/gym/102556\nCode Forces/dump/Gym/2020 Ateneo de Manila University DISCS PrO HS Division/A. A - Rank Riana and One Punch.cpp -> Code Forces/Gym/2020 Ateneo de Manila University DISCS PrO HS Division/A. A - Rank Riana and One Punch.cpp\n[Gym] : https://codeforces.com/gym/102556/problem/F\n/gym/102556\nCode Forces/dump/Gym/2020 Ateneo de Manila University DISCS PrO HS Division/F. Riana and Fiber Chatroom.cpp -> Code Forces/Gym/2020 Ateneo de Manila University DISCS PrO HS Division/F. Riana and Fiber Chatroom.cpp\n[Contest] : https://codeforces.com/contest/1331/problem/B\n/contest/1331\nCode Forces/dump/Contest/April Fools Day Contest 2020/B. Limericks.cpp -> Code Forces/Contest/April Fools Day Contest 2020/B. Limericks.cpp\n[Contest] : https://codeforces.com/contest/1331/problem/A\n/contest/1331\nCode Forces/dump/Contest/April Fools Day Contest 2020/A. Is it rated_.cpp -> Code Forces/Contest/April Fools Day Contest 2020/A. Is it rated_.cpp\n[Contest] : https://codeforces.com/contest/1328/problem/B\n/contest/1328\nCode Forces/dump/Contest/Codeforces Round #629 (Div. 3)/B. K-th Beautiful String.cpp -> Code Forces/Contest/Codeforces Round #629 (Div. 3)/B. K-th Beautiful String.cpp\n[Contest] : https://codeforces.com/contest/1328/problem/A\n/contest/1328\nCode Forces/dump/Contest/Codeforces Round #629 (Div. 3)/A. Divisibility Problem.cpp -> Code Forces/Contest/Codeforces Round #629 (Div. 3)/A. Divisibility Problem.cpp\n[Contest] : https://codeforces.com/contest/1328/problem/C\n/contest/1328\nCode Forces/dump/Contest/Codeforces Round #629 (Div. 3)/C. Ternary XOR.cpp -> Code Forces/Contest/Codeforces Round #629 (Div. 3)/C. Ternary XOR.cpp\n[Contest] : https://codeforces.com/contest/1305/problem/A\n/contest/1305\nCode Forces/dump/Ozon Tech Challenge 2020 (Div.1 + Div.2, Rated, T-shirts + prizes!)/A. Kuroni and the Gifts.cpp -> Code Forces/Contest/Ozon Tech Challenge 2020 (Div.1 + Div.2, Rated, T-shirts + prizes!)/A. Kuroni and the Gifts.cpp\n[Contest] : https://codeforces.com/contest/1305/problem/C\n/contest/1305\nCode Forces/dump/Ozon Tech Challenge 2020 (Div.1 + Div.2, Rated, T-shirts + prizes!)/C. Kuroni and Impossible Calculation.cpp -> Code Forces/Contest/Ozon Tech Challenge 2020 (Div.1 + Div.2, Rated, T-shirts + prizes!)/C. Kuroni and Impossible Calculation.cpp\n[Contest] : https://codeforces.com/contest/1305/problem/B\n/contest/1305\nCode Forces/dump/Ozon Tech Challenge 2020 (Div.1 + Div.2, Rated, T-shirts + prizes!)/B. Kuroni and Simple Strings.cpp -> Code Forces/Contest/Ozon Tech Challenge 2020 (Div.1 + Div.2, Rated, T-shirts + prizes!)/B. Kuroni and Simple Strings.cpp\nDONE.\n"
    }
   ],
   "source": [
    "root_path = \"Code Forces\"\n",
    "root_path = Path(root_path)\n",
    "\n",
    "dump_path = root_path / \"dump\"\n",
    "\n",
    "for cpp in dump_path.glob(\"**/*.cpp\"):\n",
    "    full_url = get_url_from_source(cpp.absolute())\n",
    "    parsed_url = urlparse(full_url)\n",
    "    list_of_tree = parsed_url.path.split('/')[1:]\n",
    "\n",
    "    problem_type = list_of_tree[0]\n",
    "\n",
    "    if problem_type == \"problemset\":\n",
    "        print(\"[Problemset] :\", full_url)\n",
    "\n",
    "        header_name, problem_name = get_names_from_url(problem_type, full_url)\n",
    "\n",
    "        new_dir = root_path / problem_type.capitalize() / header_name\n",
    "        new_file = new_dir / (problem_name + \".cpp\")\n",
    "\n",
    "        new_dir.mkdir(parents=True, exist_ok=True)\n",
    "        cpp.rename(new_file)\n",
    "\n",
    "        print(cpp, \"->\", new_file)\n",
    "    \n",
    "    elif problem_type == \"contest\":\n",
    "        print(\"[Contest] :\", full_url)\n",
    "\n",
    "        header_name, problem_name = get_names_from_url(problem_type, full_url)\n",
    "        new_dir = root_path / problem_type.capitalize() / header_name\n",
    "        new_file = new_dir / (problem_name + \".cpp\")\n",
    "\n",
    "        new_dir.mkdir(parents=True, exist_ok=True)\n",
    "        cpp.rename(new_file)\n",
    "\n",
    "        print(cpp, \"->\", new_file)\n",
    "\n",
    "    elif (problem_type == \"gym\"):\n",
    "        print(\"[Gym] :\", full_url)\n",
    "\n",
    "        header_name, problem_name = get_names_from_url(problem_type, full_url)\n",
    "\n",
    "        new_dir = root_path / problem_type.capitalize() / header_name\n",
    "        new_file = new_dir / (problem_name + \".cpp\")\n",
    "\n",
    "        new_dir.mkdir(parents=True, exist_ok=True)\n",
    "        cpp.rename(new_file)\n",
    "\n",
    "        print(cpp, \"->\", new_file)\n",
    "\n",
    "print(\"DONE.\")"
   ]
  }
 ],
 "metadata": {
  "kernelspec": {
   "display_name": "Python 3.8.2 64-bit ('ps': conda)",
   "language": "python",
   "name": "python38264bitpsconda97c75a56925a4b2680c8fc4ff60e4a5b"
  },
  "language_info": {
   "codemirror_mode": {
    "name": "ipython",
    "version": 3
   },
   "file_extension": ".py",
   "mimetype": "text/x-python",
   "name": "python",
   "nbconvert_exporter": "python",
   "pygments_lexer": "ipython3",
   "version": "3.8.2-final"
  }
 },
 "nbformat": 4,
 "nbformat_minor": 4
}